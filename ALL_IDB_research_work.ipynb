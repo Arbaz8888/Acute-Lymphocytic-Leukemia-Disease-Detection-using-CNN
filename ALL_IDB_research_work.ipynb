{
  "nbformat": 4,
  "nbformat_minor": 0,
  "metadata": {
    "colab": {
      "provenance": [],
      "toc_visible": true
    },
    "kernelspec": {
      "name": "python3",
      "display_name": "Python 3"
    },
    "language_info": {
      "name": "python"
    }
  },
  "cells": [
    {
      "cell_type": "code",
      "execution_count": null,
      "metadata": {
        "id": "2bK6wSQP_ZVs"
      },
      "outputs": [],
      "source": [
        "import numpy as np\n",
        "import pandas as pd\n",
        "import matplotlib.pyplot as plt\n",
        "from sklearn.model_selection import  train_test_split\n",
        "from sklearn.metrics import accuracy_score"
      ]
    },
    {
      "cell_type": "code",
      "source": [
        "from google.colab import drive\n",
        "drive.mount('/content/drive')"
      ],
      "metadata": {
        "id": "5Pliv9nLDkyu",
        "outputId": "88857d19-6eee-4526-b8db-e1cbfe77ab40",
        "colab": {
          "base_uri": "https://localhost:8080/"
        }
      },
      "execution_count": null,
      "outputs": [
        {
          "output_type": "stream",
          "name": "stdout",
          "text": [
            "Mounted at /content/drive\n"
          ]
        }
      ]
    },
    {
      "cell_type": "code",
      "source": [],
      "metadata": {
        "id": "D5Hwq1nNmdim"
      },
      "execution_count": null,
      "outputs": []
    },
    {
      "cell_type": "code",
      "source": [
        "import os\n",
        "path = os.listdir('drive/MyDrive/ALL_IDB/ALL_IDB2/img')\n",
        "classes = {'healthy':0, 'ALL':1}"
      ],
      "metadata": {
        "id": "hf1rpYMv_h2T"
      },
      "execution_count": null,
      "outputs": []
    },
    {
      "cell_type": "code",
      "source": [],
      "metadata": {
        "id": "IRtcmGoYmQMY"
      },
      "execution_count": null,
      "outputs": []
    },
    {
      "cell_type": "code",
      "source": [
        "print(path)"
      ],
      "metadata": {
        "id": "2XpgMU7yKtDF",
        "colab": {
          "base_uri": "https://localhost:8080/"
        },
        "outputId": "8a2fee5d-984d-4278-f5b9-2802db2d4d59"
      },
      "execution_count": null,
      "outputs": [
        {
          "output_type": "stream",
          "name": "stdout",
          "text": [
            "['Im134_0.tif', 'Im131_0.tif', 'Im136_0.tif', 'Im132_0.tif', 'Im133_0.tif', 'Im135_0.tif', 'Im143_0.tif', 'Im139_0.tif', 'Im149_0.tif', 'Im145_0.tif', 'Im148_0.tif', 'Im137_0.tif', 'Im138_0.tif', 'Im146_0.tif', 'Im141_0.tif', 'Im142_0.tif', 'Im140_0.tif', 'Im144_0.tif', 'Im147_0.tif', 'Im150_0.tif', 'Im151_0.tif', 'Im153_0.tif', 'Im152_0.tif', 'Im154_0.tif', 'Im155_0.tif', 'Im157_0.tif', 'Im161_0.tif', 'Im164_0.tif', 'Im168_0.tif', 'Im166_0.tif', 'Im162_0.tif', 'Im167_0.tif', 'Im158_0.tif', 'Im156_0.tif', 'Im163_0.tif', 'Im160_0.tif', 'Im165_0.tif', 'Im159_0.tif', 'Im181_0.tif', 'Im171_0.tif', 'Im176_0.tif', 'Im184_0.tif', 'Im179_0.tif', 'Im192_0.tif', 'Im189_0.tif', 'Im187_0.tif', 'Im178_0.tif', 'Im174_0.tif', 'Im182_0.tif', 'Im183_0.tif', 'Im170_0.tif', 'Im172_0.tif', 'Im190_0.tif', 'Im173_0.tif', 'Im185_0.tif', 'Im186_0.tif', 'Im188_0.tif', 'Im193_0.tif', 'Im169_0.tif', 'Im175_0.tif', 'Im177_0.tif', 'Im180_0.tif', 'Im191_0.tif', 'Im195_0.tif', 'Im194_0.tif', 'Im213_0.tif', 'Im214_0.tif', 'Im217_0.tif', 'Im225_0.tif', 'Im218_0.tif', 'Im201_0.tif', 'Im204_0.tif', 'Im224_0.tif', 'Im212_0.tif', 'Im210_0.tif', 'Im220_0.tif', 'Im227_0.tif', 'Im219_0.tif', 'Im221_0.tif', 'Im223_0.tif', 'Im197_0.tif', 'Im199_0.tif', 'Im203_0.tif', 'Im209_0.tif', 'Im202_0.tif', 'Im216_0.tif', 'Im208_0.tif', 'Im228_0.tif', 'Im206_0.tif', 'Im215_0.tif', 'Im207_0.tif', 'Im198_0.tif', 'Im196_0.tif', 'Im226_0.tif', 'Im211_0.tif', 'Im200_0.tif', 'Im205_0.tif', 'Im222_0.tif', 'Im235_0.tif', 'Im233_0.tif', 'Im241_0.tif', 'Im236_0.tif', 'Im231_0.tif', 'Im232_0.tif', 'Im229_0.tif', 'Im240_0.tif', 'Im238_0.tif', 'Im230_0.tif', 'Im234_0.tif', 'Im239_0.tif', 'Im243_0.tif', 'Im237_0.tif', 'Im242_0.tif', 'Im255_0.tif', 'Im250_0.tif', 'Im251_0.tif', 'Im253_0.tif', 'Im260_0.tif', 'Im246_0.tif', 'Im248_0.tif', 'Im249_0.tif', 'Im259_0.tif', 'Im256_0.tif', 'Im257_0.tif', 'Im254_0.tif', 'Im245_0.tif', 'Im252_0.tif', 'Im258_0.tif', 'Im244_0.tif', 'Im247_0.tif', 'Im023_1.tif', 'Im034_1.tif', 'Im010_1.tif', 'Im008_1.tif', 'Im028_1.tif', 'Im021_1.tif', 'Im022_1.tif', 'Im017_1.tif', 'Im016_1.tif', 'Im002_1.tif', 'Im031_1.tif', 'Im003_1.tif', 'Im013_1.tif', 'Im005_1.tif', 'Im001_1.tif', 'Im009_1.tif', 'Im012_1.tif', 'Im032_1.tif', 'Im024_1.tif', 'Im027_1.tif', 'Im020_1.tif', 'Im019_1.tif', 'Im026_1.tif', 'Im029_1.tif', 'Im030_1.tif', 'Im033_1.tif', 'Im006_1.tif', 'Im014_1.tif', 'Im004_1.tif', 'Im007_1.tif', 'Im018_1.tif', 'Im015_1.tif', 'Im011_1.tif', 'Im025_1.tif', 'Im069_1.tif', 'Im060_1.tif', 'Im066_1.tif', 'Im038_1.tif', 'Im055_1.tif', 'Im068_1.tif', 'Im036_1.tif', 'Im064_1.tif', 'Im051_1.tif', 'Im047_1.tif', 'Im049_1.tif', 'Im061_1.tif', 'Im056_1.tif', 'Im046_1.tif', 'Im054_1.tif', 'Im045_1.tif', 'Im059_1.tif', 'Im058_1.tif', 'Im053_1.tif', 'Im040_1.tif', 'Im052_1.tif', 'Im050_1.tif', 'Im035_1.tif', 'Im062_1.tif', 'Im057_1.tif', 'Im041_1.tif', 'Im048_1.tif', 'Im063_1.tif', 'Im067_1.tif', 'Im039_1.tif', 'Im037_1.tif', 'Im043_1.tif', 'Im065_1.tif', 'Im044_1.tif', 'Im042_1.tif', 'Im072_1.tif', 'Im071_1.tif', 'Im070_1.tif', 'Im073_1.tif', 'Im075_1.tif', 'Im087_1.tif', 'Im092_1.tif', 'Im091_1.tif', 'Im082_1.tif', 'Im086_1.tif', 'Im080_1.tif', 'Im089_1.tif', 'Im076_1.tif', 'Im078_1.tif', 'Im084_1.tif', 'Im085_1.tif', 'Im079_1.tif', 'Im083_1.tif', 'Im077_1.tif', 'Im081_1.tif', 'Im088_1.tif', 'Im090_1.tif', 'Im094_1.tif', 'Im093_1.tif', 'Im074_1.tif', 'Im108_1.tif', 'Im106_1.tif', 'Im101_1.tif', 'Im095_1.tif', 'Im098_1.tif', 'Im105_1.tif', 'Im102_1.tif', 'Im107_1.tif', 'Im096_1.tif', 'Im104_1.tif', 'Im099_1.tif', 'Im097_1.tif', 'Im109_1.tif', 'Im103_1.tif', 'Im100_1.tif', 'Im115_1.tif', 'Im120_1.tif', 'Im119_1.tif', 'Im110_1.tif', 'Im114_1.tif', 'Im112_1.tif', 'Im116_1.tif', 'Im117_1.tif', 'Im113_1.tif', 'Im118_1.tif', 'Im111_1.tif', 'Im123_1.tif', 'Im130_1.tif', 'Im125_1.tif', 'Im124_1.tif', 'Im121_1.tif', 'Im127_1.tif', 'Im129_1.tif', 'Im128_1.tif', 'Im126_1.tif', 'Im122_1.tif', 'healthy', '.ipynb_checkpoints', 'ALL']\n"
          ]
        }
      ]
    },
    {
      "cell_type": "code",
      "source": [
        "import cv2\n",
        "X = []\n",
        "Y = []\n",
        "for cls in classes :\n",
        "    pth = 'drive/MyDrive/ALL_IDB/ALL_IDB2/img/'+cls\n",
        "    for j in os.listdir(pth) :\n",
        "        img = cv2.imread(pth+'/'+j, 0)\n",
        "        img = cv2.resize(img, (200,200))\n",
        "        X.append(img)\n",
        "        Y.append(classes[cls])"
      ],
      "metadata": {
        "id": "HZhamQf0_8s5"
      },
      "execution_count": null,
      "outputs": []
    },
    {
      "cell_type": "code",
      "source": [
        "np.unique(Y)"
      ],
      "metadata": {
        "colab": {
          "base_uri": "https://localhost:8080/"
        },
        "id": "E-tGQd41AAmZ",
        "outputId": "a2799c64-fd7f-4e74-d1c2-e1b42fbca2bd"
      },
      "execution_count": null,
      "outputs": [
        {
          "output_type": "execute_result",
          "data": {
            "text/plain": [
              "array([0, 1])"
            ]
          },
          "metadata": {},
          "execution_count": 8
        }
      ]
    },
    {
      "cell_type": "code",
      "source": [
        "X = np.array(X)\n",
        "Y = np.array(Y)"
      ],
      "metadata": {
        "id": "UqimUWrKO3yw"
      },
      "execution_count": null,
      "outputs": []
    },
    {
      "cell_type": "code",
      "source": [
        "pd.Series(Y).value_counts()"
      ],
      "metadata": {
        "colab": {
          "base_uri": "https://localhost:8080/"
        },
        "id": "prRt7-PXP8HM",
        "outputId": "758603d2-0193-45bf-877b-af486f37f25c"
      },
      "execution_count": null,
      "outputs": [
        {
          "output_type": "execute_result",
          "data": {
            "text/plain": [
              "0    130\n",
              "1    130\n",
              "dtype: int64"
            ]
          },
          "metadata": {},
          "execution_count": 10
        }
      ]
    },
    {
      "cell_type": "code",
      "source": [
        "X.shape"
      ],
      "metadata": {
        "colab": {
          "base_uri": "https://localhost:8080/"
        },
        "id": "PPBRii_iP95l",
        "outputId": "c334b2bb-f7e7-4093-f721-a038f72973c9"
      },
      "execution_count": null,
      "outputs": [
        {
          "output_type": "execute_result",
          "data": {
            "text/plain": [
              "(260, 200, 200)"
            ]
          },
          "metadata": {},
          "execution_count": 11
        }
      ]
    },
    {
      "cell_type": "code",
      "source": [
        "plt.imshow(X[15], cmap='gray')"
      ],
      "metadata": {
        "colab": {
          "base_uri": "https://localhost:8080/",
          "height": 287
        },
        "id": "_e_YJAPmQJKU",
        "outputId": "b535503d-ffbf-4002-f52b-003b523c5601"
      },
      "execution_count": null,
      "outputs": [
        {
          "output_type": "execute_result",
          "data": {
            "text/plain": [
              "<matplotlib.image.AxesImage at 0x7f18f75df710>"
            ]
          },
          "metadata": {},
          "execution_count": 12
        },
        {
          "output_type": "display_data",
          "data": {
            "text/plain": [
              "<Figure size 432x288 with 1 Axes>"
            ],
            "image/png": "[encoded data removed]"
          },
          "metadata": {
            "needs_background": "light"
          }
        }
      ]
    },
    {
      "cell_type": "code",
      "source": [
        "X_updated = X.reshape(len(X), -1)\n",
        "X_updated.shape"
      ],
      "metadata": {
        "colab": {
          "base_uri": "https://localhost:8080/"
        },
        "id": "r1Dmk9TSQLcp",
        "outputId": "da09b230-d827-498e-ae09-d025e8b377ec"
      },
      "execution_count": null,
      "outputs": [
        {
          "output_type": "execute_result",
          "data": {
            "text/plain": [
              "(260, 40000)"
            ]
          },
          "metadata": {},
          "execution_count": 13
        }
      ]
    },
    {
      "cell_type": "code",
      "source": [
        "xtrain, xtest, ytrain, ytest = train_test_split(X_updated, Y, random_state=10, test_size=.20)"
      ],
      "metadata": {
        "id": "4NNhAvGaQNuB"
      },
      "execution_count": null,
      "outputs": []
    },
    {
      "cell_type": "code",
      "source": [
        "xtrain.shape, xtest.shape"
      ],
      "metadata": {
        "colab": {
          "base_uri": "https://localhost:8080/"
        },
        "id": "RcrF6ORqQPgH",
        "outputId": "c4aa3ca4-0646-4c76-f26f-739873618e44"
      },
      "execution_count": null,
      "outputs": [
        {
          "output_type": "execute_result",
          "data": {
            "text/plain": [
              "((208, 40000), (52, 40000))"
            ]
          },
          "metadata": {},
          "execution_count": 15
        }
      ]
    },
    {
      "cell_type": "code",
      "source": [
        "# keras imports for the dataset and building our neural network\n",
        "from keras.datasets import mnist\n",
        "from keras.models import Sequential\n",
        "from keras.layers import Dense, Dropout, Conv2D, MaxPool2D, Flatten\n",
        "from keras.utils import np_utils\n",
        "\n",
        "# to calculate accuracy\n",
        "from sklearn.metrics import accuracy_score\n",
        "\n",
        "# one-hot encoding using keras' numpy-related utilities\n",
        "n_classes = 10\n",
        "print(\"Shape before one-hot encoding: \", ytrain.shape)\n",
        "Y_train = np_utils.to_categorical(ytrain, n_classes)\n",
        "Y_test = np_utils.to_categorical(ytest, n_classes)\n",
        "print(\"Shape after one-hot encoding: \", Y_train.shape)\n",
        "\n",
        "# building a linear stack of layers with the sequential model\n",
        "model = Sequential()\n",
        "# convolutional layer\n",
        "model.add(Conv2D(25, kernel_size=(3,3), strides=(1,1), padding='valid', activation='relu', input_shape=(28,28,1)))\n",
        "model.add(MaxPool2D(pool_size=(1,1)))\n",
        "# flatten output of conv\n",
        "model.add(Flatten())\n",
        "# hidden layer\n",
        "model.add(Dense(100, activation='relu'))\n",
        "# output layer\n",
        "model.add(Dense(10, activation='softmax'))\n",
        "\n",
        "# compiling the sequential model\n",
        "model.compile(loss='categorical_crossentropy', metrics=['accuracy'], optimizer='adam')\n",
        "\n",
        "# training the model for 10 epochs\n",
        "model.fit(xtrain, Y_train, batch_size=128, epochs=10, validation_data=(xtest, ytest))"
      ],
      "metadata": {
        "colab": {
          "base_uri": "https://localhost:8080/",
          "height": 431
        },
        "id": "qmHqtIZqYuma",
        "outputId": "674a4d10-d332-4f72-a397-4620cf816ae0"
      },
      "execution_count": null,
      "outputs": [
        {
          "output_type": "stream",
          "name": "stdout",
          "text": [
            "Shape before one-hot encoding:  (208,)\n",
            "Shape after one-hot encoding:  (208, 10)\n"
          ]
        },
        {
          "output_type": "error",
          "ename": "TypeError",
          "evalue": "ignored",
          "traceback": [
            "\u001b[0;31m---------------------------------------------------------------------------\u001b[0m",
            "\u001b[0;31mTypeError\u001b[0m                                 Traceback (most recent call last)",
            "\u001b[0;32m<ipython-input-20-d5cdd927a497>\u001b[0m in \u001b[0;36m<module>\u001b[0;34m\u001b[0m\n\u001b[1;32m     18\u001b[0m \u001b[0mmodel\u001b[0m \u001b[0;34m=\u001b[0m \u001b[0mSequential\u001b[0m\u001b[0;34m(\u001b[0m\u001b[0;34m)\u001b[0m\u001b[0;34m\u001b[0m\u001b[0;34m\u001b[0m\u001b[0m\n\u001b[1;32m     19\u001b[0m \u001b[0;31m# convolutional layer\u001b[0m\u001b[0;34m\u001b[0m\u001b[0;34m\u001b[0m\u001b[0;34m\u001b[0m\u001b[0m\n\u001b[0;32m---> 20\u001b[0;31m \u001b[0mmodel\u001b[0m\u001b[0;34m.\u001b[0m\u001b[0madd\u001b[0m\u001b[0;34m(\u001b[0m\u001b[0mConv2D\u001b[0m\u001b[0;34m(\u001b[0m\u001b[0;36m25\u001b[0m\u001b[0;34m,\u001b[0m \u001b[0mkernel_size\u001b[0m\u001b[0;34m=\u001b[0m\u001b[0;34m(\u001b[0m\u001b[0;36m3\u001b[0m\u001b[0;34m,\u001b[0m\u001b[0;36m3\u001b[0m\u001b[0;34m)\u001b[0m\u001b[0;34m,\u001b[0m \u001b[0mstrides\u001b[0m\u001b[0;34m=\u001b[0m\u001b[0;34m(\u001b[0m\u001b[0;36m1\u001b[0m\u001b[0;34m,\u001b[0m\u001b[0;36m1\u001b[0m\u001b[0;34m)\u001b[0m\u001b[0;34m,\u001b[0m \u001b[0mpadding\u001b[0m\u001b[0;34m=\u001b[0m\u001b[0;34m'valid'\u001b[0m\u001b[0;34m,\u001b[0m \u001b[0mactivation\u001b[0m\u001b[0;34m=\u001b[0m\u001b[0;34m'relu'\u001b[0m\u001b[0;34m,\u001b[0m \u001b[0minput_shape\u001b[0m\u001b[0;34m=\u001b[0m\u001b[0;34m(\u001b[0m\u001b[0;36m1\u001b[0m\u001b[0;34m)\u001b[0m\u001b[0;34m)\u001b[0m\u001b[0;34m)\u001b[0m\u001b[0;34m\u001b[0m\u001b[0;34m\u001b[0m\u001b[0m\n\u001b[0m\u001b[1;32m     21\u001b[0m \u001b[0mmodel\u001b[0m\u001b[0;34m.\u001b[0m\u001b[0madd\u001b[0m\u001b[0;34m(\u001b[0m\u001b[0mMaxPool2D\u001b[0m\u001b[0;34m(\u001b[0m\u001b[0mpool_size\u001b[0m\u001b[0;34m=\u001b[0m\u001b[0;34m(\u001b[0m\u001b[0;36m1\u001b[0m\u001b[0;34m,\u001b[0m\u001b[0;36m1\u001b[0m\u001b[0;34m)\u001b[0m\u001b[0;34m)\u001b[0m\u001b[0;34m)\u001b[0m\u001b[0;34m\u001b[0m\u001b[0;34m\u001b[0m\u001b[0m\n\u001b[1;32m     22\u001b[0m \u001b[0;31m# flatten output of conv\u001b[0m\u001b[0;34m\u001b[0m\u001b[0;34m\u001b[0m\u001b[0;34m\u001b[0m\u001b[0m\n",
            "\u001b[0;32m/usr/local/lib/python3.7/dist-packages/keras/dtensor/utils.py\u001b[0m in \u001b[0;36m_wrap_function\u001b[0;34m(layer_instance, *args, **kwargs)\u001b[0m\n\u001b[1;32m     93\u001b[0m           \u001b[0mlayout_args\u001b[0m\u001b[0;34m[\u001b[0m\u001b[0mvariable_name\u001b[0m \u001b[0;34m+\u001b[0m \u001b[0;34m\"_layout\"\u001b[0m\u001b[0;34m]\u001b[0m \u001b[0;34m=\u001b[0m \u001b[0mlayout\u001b[0m\u001b[0;34m\u001b[0m\u001b[0;34m\u001b[0m\u001b[0m\n\u001b[1;32m     94\u001b[0m \u001b[0;34m\u001b[0m\u001b[0m\n\u001b[0;32m---> 95\u001b[0;31m     \u001b[0minit_method\u001b[0m\u001b[0;34m(\u001b[0m\u001b[0mlayer_instance\u001b[0m\u001b[0;34m,\u001b[0m \u001b[0;34m*\u001b[0m\u001b[0margs\u001b[0m\u001b[0;34m,\u001b[0m \u001b[0;34m**\u001b[0m\u001b[0mkwargs\u001b[0m\u001b[0;34m)\u001b[0m\u001b[0;34m\u001b[0m\u001b[0;34m\u001b[0m\u001b[0m\n\u001b[0m\u001b[1;32m     96\u001b[0m \u001b[0;34m\u001b[0m\u001b[0m\n\u001b[1;32m     97\u001b[0m     \u001b[0;31m# Inject the layout parameter after the invocation of __init__()\u001b[0m\u001b[0;34m\u001b[0m\u001b[0;34m\u001b[0m\u001b[0;34m\u001b[0m\u001b[0m\n",
            "\u001b[0;32m/usr/local/lib/python3.7/dist-packages/keras/layers/convolutional/conv2d.py\u001b[0m in \u001b[0;36m__init__\u001b[0;34m(self, filters, kernel_size, strides, padding, data_format, dilation_rate, groups, activation, use_bias, kernel_initializer, bias_initializer, kernel_regularizer, bias_regularizer, activity_regularizer, kernel_constraint, bias_constraint, **kwargs)\u001b[0m\n\u001b[1;32m    186\u001b[0m         \u001b[0mkernel_constraint\u001b[0m\u001b[0;34m=\u001b[0m\u001b[0mconstraints\u001b[0m\u001b[0;34m.\u001b[0m\u001b[0mget\u001b[0m\u001b[0;34m(\u001b[0m\u001b[0mkernel_constraint\u001b[0m\u001b[0;34m)\u001b[0m\u001b[0;34m,\u001b[0m\u001b[0;34m\u001b[0m\u001b[0;34m\u001b[0m\u001b[0m\n\u001b[1;32m    187\u001b[0m         \u001b[0mbias_constraint\u001b[0m\u001b[0;34m=\u001b[0m\u001b[0mconstraints\u001b[0m\u001b[0;34m.\u001b[0m\u001b[0mget\u001b[0m\u001b[0;34m(\u001b[0m\u001b[0mbias_constraint\u001b[0m\u001b[0;34m)\u001b[0m\u001b[0;34m,\u001b[0m\u001b[0;34m\u001b[0m\u001b[0;34m\u001b[0m\u001b[0m\n\u001b[0;32m--> 188\u001b[0;31m         **kwargs)\n\u001b[0m\u001b[1;32m    189\u001b[0m \u001b[0;34m\u001b[0m\u001b[0m\n\u001b[1;32m    190\u001b[0m \u001b[0;31m# Alias\u001b[0m\u001b[0;34m\u001b[0m\u001b[0;34m\u001b[0m\u001b[0;34m\u001b[0m\u001b[0m\n",
            "\u001b[0;32m/usr/local/lib/python3.7/dist-packages/keras/layers/convolutional/base_conv.py\u001b[0m in \u001b[0;36m__init__\u001b[0;34m(self, rank, filters, kernel_size, strides, padding, data_format, dilation_rate, groups, activation, use_bias, kernel_initializer, bias_initializer, kernel_regularizer, bias_regularizer, activity_regularizer, kernel_constraint, bias_constraint, trainable, name, conv_op, **kwargs)\u001b[0m\n\u001b[1;32m    114\u001b[0m         \u001b[0mname\u001b[0m\u001b[0;34m=\u001b[0m\u001b[0mname\u001b[0m\u001b[0;34m,\u001b[0m\u001b[0;34m\u001b[0m\u001b[0;34m\u001b[0m\u001b[0m\n\u001b[1;32m    115\u001b[0m         \u001b[0mactivity_regularizer\u001b[0m\u001b[0;34m=\u001b[0m\u001b[0mregularizers\u001b[0m\u001b[0;34m.\u001b[0m\u001b[0mget\u001b[0m\u001b[0;34m(\u001b[0m\u001b[0mactivity_regularizer\u001b[0m\u001b[0;34m)\u001b[0m\u001b[0;34m,\u001b[0m\u001b[0;34m\u001b[0m\u001b[0;34m\u001b[0m\u001b[0m\n\u001b[0;32m--> 116\u001b[0;31m         **kwargs)\n\u001b[0m\u001b[1;32m    117\u001b[0m     \u001b[0mself\u001b[0m\u001b[0;34m.\u001b[0m\u001b[0mrank\u001b[0m \u001b[0;34m=\u001b[0m \u001b[0mrank\u001b[0m\u001b[0;34m\u001b[0m\u001b[0;34m\u001b[0m\u001b[0m\n\u001b[1;32m    118\u001b[0m \u001b[0;34m\u001b[0m\u001b[0m\n",
            "\u001b[0;32m/usr/local/lib/python3.7/dist-packages/tensorflow/python/training/tracking/base.py\u001b[0m in \u001b[0;36m_method_wrapper\u001b[0;34m(self, *args, **kwargs)\u001b[0m\n\u001b[1;32m    585\u001b[0m     \u001b[0mself\u001b[0m\u001b[0;34m.\u001b[0m\u001b[0m_self_setattr_tracking\u001b[0m \u001b[0;34m=\u001b[0m \u001b[0;32mFalse\u001b[0m  \u001b[0;31m# pylint: disable=protected-access\u001b[0m\u001b[0;34m\u001b[0m\u001b[0;34m\u001b[0m\u001b[0m\n\u001b[1;32m    586\u001b[0m     \u001b[0;32mtry\u001b[0m\u001b[0;34m:\u001b[0m\u001b[0;34m\u001b[0m\u001b[0;34m\u001b[0m\u001b[0m\n\u001b[0;32m--> 587\u001b[0;31m       \u001b[0mresult\u001b[0m \u001b[0;34m=\u001b[0m \u001b[0mmethod\u001b[0m\u001b[0;34m(\u001b[0m\u001b[0mself\u001b[0m\u001b[0;34m,\u001b[0m \u001b[0;34m*\u001b[0m\u001b[0margs\u001b[0m\u001b[0;34m,\u001b[0m \u001b[0;34m**\u001b[0m\u001b[0mkwargs\u001b[0m\u001b[0;34m)\u001b[0m\u001b[0;34m\u001b[0m\u001b[0;34m\u001b[0m\u001b[0m\n\u001b[0m\u001b[1;32m    588\u001b[0m     \u001b[0;32mfinally\u001b[0m\u001b[0;34m:\u001b[0m\u001b[0;34m\u001b[0m\u001b[0;34m\u001b[0m\u001b[0m\n\u001b[1;32m    589\u001b[0m       \u001b[0mself\u001b[0m\u001b[0;34m.\u001b[0m\u001b[0m_self_setattr_tracking\u001b[0m \u001b[0;34m=\u001b[0m \u001b[0mprevious_value\u001b[0m  \u001b[0;31m# pylint: disable=protected-access\u001b[0m\u001b[0;34m\u001b[0m\u001b[0;34m\u001b[0m\u001b[0m\n",
            "\u001b[0;32m/usr/local/lib/python3.7/dist-packages/keras/engine/base_layer.py\u001b[0m in \u001b[0;36m__init__\u001b[0;34m(self, trainable, name, dtype, dynamic, **kwargs)\u001b[0m\n\u001b[1;32m    431\u001b[0m         \u001b[0;32melse\u001b[0m\u001b[0;34m:\u001b[0m\u001b[0;34m\u001b[0m\u001b[0;34m\u001b[0m\u001b[0m\n\u001b[1;32m    432\u001b[0m           \u001b[0mbatch_size\u001b[0m \u001b[0;34m=\u001b[0m \u001b[0;32mNone\u001b[0m\u001b[0;34m\u001b[0m\u001b[0;34m\u001b[0m\u001b[0m\n\u001b[0;32m--> 433\u001b[0;31m         \u001b[0mbatch_input_shape\u001b[0m \u001b[0;34m=\u001b[0m \u001b[0;34m(\u001b[0m\u001b[0mbatch_size\u001b[0m\u001b[0;34m,\u001b[0m\u001b[0;34m)\u001b[0m \u001b[0;34m+\u001b[0m \u001b[0mtuple\u001b[0m\u001b[0;34m(\u001b[0m\u001b[0mkwargs\u001b[0m\u001b[0;34m[\u001b[0m\u001b[0;34m'input_shape'\u001b[0m\u001b[0;34m]\u001b[0m\u001b[0;34m)\u001b[0m\u001b[0;34m\u001b[0m\u001b[0;34m\u001b[0m\u001b[0m\n\u001b[0m\u001b[1;32m    434\u001b[0m       \u001b[0mself\u001b[0m\u001b[0;34m.\u001b[0m\u001b[0m_batch_input_shape\u001b[0m \u001b[0;34m=\u001b[0m \u001b[0mbatch_input_shape\u001b[0m\u001b[0;34m\u001b[0m\u001b[0;34m\u001b[0m\u001b[0m\n\u001b[1;32m    435\u001b[0m \u001b[0;34m\u001b[0m\u001b[0m\n",
            "\u001b[0;31mTypeError\u001b[0m: 'int' object is not iterable"
          ]
        }
      ]
    },
    {
      "cell_type": "code",
      "source": [],
      "metadata": {
        "id": "Wkb061UrY3jq"
      },
      "execution_count": null,
      "outputs": []
    }
  ]
}